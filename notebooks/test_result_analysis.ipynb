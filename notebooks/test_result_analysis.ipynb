{
 "cells": [
  {
   "cell_type": "code",
   "execution_count": 1,
   "metadata": {
    "id": "OFG9sOn7qvpp"
   },
   "outputs": [],
   "source": [
    "import pandas as pd\n",
    "import numpy as np\n",
    "from sklearn.metrics import precision_recall_fscore_support, accuracy_score, classification_report"
   ]
  },
  {
   "cell_type": "code",
   "execution_count": 13,
   "metadata": {
    "colab": {
     "base_uri": "https://localhost:8080/",
     "height": 677
    },
    "id": "Xkc-uCedrKqx",
    "outputId": "3eca7ea8-138f-4e4f-a4b7-6b55bb89dc26"
   },
   "outputs": [
    {
     "data": {
      "text/html": [
       "<div>\n",
       "<style scoped>\n",
       "    .dataframe tbody tr th:only-of-type {\n",
       "        vertical-align: middle;\n",
       "    }\n",
       "\n",
       "    .dataframe tbody tr th {\n",
       "        vertical-align: top;\n",
       "    }\n",
       "\n",
       "    .dataframe thead th {\n",
       "        text-align: right;\n",
       "    }\n",
       "</style>\n",
       "<table border=\"1\" class=\"dataframe\">\n",
       "  <thead>\n",
       "    <tr style=\"text-align: right;\">\n",
       "      <th></th>\n",
       "      <th>productId</th>\n",
       "      <th>Title</th>\n",
       "      <th>userId</th>\n",
       "      <th>Time</th>\n",
       "      <th>Text</th>\n",
       "      <th>Cat1</th>\n",
       "      <th>Cat2</th>\n",
       "      <th>Cat3</th>\n",
       "      <th>clean_Title</th>\n",
       "      <th>clean_Text</th>\n",
       "      <th>combined_text</th>\n",
       "      <th>pred_Cat1</th>\n",
       "      <th>pred_Cat2</th>\n",
       "      <th>pred_Cat3</th>\n",
       "    </tr>\n",
       "  </thead>\n",
       "  <tbody>\n",
       "    <tr>\n",
       "      <th>0</th>\n",
       "      <td>B00068S9H2</td>\n",
       "      <td>Mega Yohimbe Extract 750 mg 120 Caps</td>\n",
       "      <td>AEN7OO9EQ3OC8</td>\n",
       "      <td>1358985600</td>\n",
       "      <td>I actually believe this stuff is potent enough...</td>\n",
       "      <td>health personal care</td>\n",
       "      <td>nutrition wellness</td>\n",
       "      <td>vitamins supplements</td>\n",
       "      <td>mega yohimbe extract number mg number caps</td>\n",
       "      <td>i actually believe this stuff is potent enough...</td>\n",
       "      <td>the name of the product is mega yohimbe extrac...</td>\n",
       "      <td>health personal care</td>\n",
       "      <td>nutrition wellness</td>\n",
       "      <td>vitamins supplements</td>\n",
       "    </tr>\n",
       "    <tr>\n",
       "      <th>1</th>\n",
       "      <td>B000C2J64W</td>\n",
       "      <td>FCUK her - EDT Spray 3.4 oz. (Womens)</td>\n",
       "      <td>AHEN7LNF68ERG</td>\n",
       "      <td>1358035200</td>\n",
       "      <td>This product was very good and as a gift was r...</td>\n",
       "      <td>beauty</td>\n",
       "      <td>fragrance</td>\n",
       "      <td>women s</td>\n",
       "      <td>fcuk her  edt spray number oz womens</td>\n",
       "      <td>this product was very good and as a gift was r...</td>\n",
       "      <td>the name of the product is fcuk her  edt spray...</td>\n",
       "      <td>beauty</td>\n",
       "      <td>fragrance</td>\n",
       "      <td>women s</td>\n",
       "    </tr>\n",
       "    <tr>\n",
       "      <th>2</th>\n",
       "      <td>B000MRBQA4</td>\n",
       "      <td>Dog Safety Vest - Bright Orange Reflective Saf...</td>\n",
       "      <td>A360N3OUOCINPY</td>\n",
       "      <td>1352160000</td>\n",
       "      <td>read # 2. \"title for your review\". it does not...</td>\n",
       "      <td>pet supplies</td>\n",
       "      <td>dogs</td>\n",
       "      <td>apparel accessories</td>\n",
       "      <td>dog safety vest  bright orange reflective safe...</td>\n",
       "      <td>read  number title for your review it does not...</td>\n",
       "      <td>the name of the product is dog safety vest  br...</td>\n",
       "      <td>pet supplies</td>\n",
       "      <td>dogs</td>\n",
       "      <td>apparel accessories</td>\n",
       "    </tr>\n",
       "    <tr>\n",
       "      <th>3</th>\n",
       "      <td>B0009MFUWC</td>\n",
       "      <td>Uplift Technologies DL930 Day-Light 10,000 Lux...</td>\n",
       "      <td>A2S4RUT5VCQZRW</td>\n",
       "      <td>1354492800</td>\n",
       "      <td>I've had this light for a few years now, and I...</td>\n",
       "      <td>health personal care</td>\n",
       "      <td>health care</td>\n",
       "      <td>alternative medicine</td>\n",
       "      <td>uplift technologies dlnumber daylight number l...</td>\n",
       "      <td>ive had this light for a few years now and i l...</td>\n",
       "      <td>the name of the product is uplift technologies...</td>\n",
       "      <td>health personal care</td>\n",
       "      <td>health care</td>\n",
       "      <td>smoking cessation</td>\n",
       "    </tr>\n",
       "    <tr>\n",
       "      <th>4</th>\n",
       "      <td>B000A7XY10</td>\n",
       "      <td>Contech StayAway Automatic Pet Deterrent Refil...</td>\n",
       "      <td>A2DZGR0TW07HR9</td>\n",
       "      <td>1357948800</td>\n",
       "      <td>it taught my two blue russian cats to stay awa...</td>\n",
       "      <td>pet supplies</td>\n",
       "      <td>cats</td>\n",
       "      <td>educational repellents</td>\n",
       "      <td>contech stayaway automatic pet deterrent refil...</td>\n",
       "      <td>it taught my two blue russian cats to stay awa...</td>\n",
       "      <td>the name of the product is contech stayaway au...</td>\n",
       "      <td>pet supplies</td>\n",
       "      <td>cats</td>\n",
       "      <td>litter housebreaking</td>\n",
       "    </tr>\n",
       "  </tbody>\n",
       "</table>\n",
       "</div>"
      ],
      "text/plain": [
       "    productId                                              Title  \\\n",
       "0  B00068S9H2               Mega Yohimbe Extract 750 mg 120 Caps   \n",
       "1  B000C2J64W              FCUK her - EDT Spray 3.4 oz. (Womens)   \n",
       "2  B000MRBQA4  Dog Safety Vest - Bright Orange Reflective Saf...   \n",
       "3  B0009MFUWC  Uplift Technologies DL930 Day-Light 10,000 Lux...   \n",
       "4  B000A7XY10  Contech StayAway Automatic Pet Deterrent Refil...   \n",
       "\n",
       "           userId        Time  \\\n",
       "0   AEN7OO9EQ3OC8  1358985600   \n",
       "1   AHEN7LNF68ERG  1358035200   \n",
       "2  A360N3OUOCINPY  1352160000   \n",
       "3  A2S4RUT5VCQZRW  1354492800   \n",
       "4  A2DZGR0TW07HR9  1357948800   \n",
       "\n",
       "                                                Text                  Cat1  \\\n",
       "0  I actually believe this stuff is potent enough...  health personal care   \n",
       "1  This product was very good and as a gift was r...                beauty   \n",
       "2  read # 2. \"title for your review\". it does not...          pet supplies   \n",
       "3  I've had this light for a few years now, and I...  health personal care   \n",
       "4  it taught my two blue russian cats to stay awa...          pet supplies   \n",
       "\n",
       "                 Cat2                    Cat3  \\\n",
       "0  nutrition wellness    vitamins supplements   \n",
       "1           fragrance                 women s   \n",
       "2                dogs     apparel accessories   \n",
       "3         health care    alternative medicine   \n",
       "4                cats  educational repellents   \n",
       "\n",
       "                                         clean_Title  \\\n",
       "0         mega yohimbe extract number mg number caps   \n",
       "1               fcuk her  edt spray number oz womens   \n",
       "2  dog safety vest  bright orange reflective safe...   \n",
       "3  uplift technologies dlnumber daylight number l...   \n",
       "4  contech stayaway automatic pet deterrent refil...   \n",
       "\n",
       "                                          clean_Text  \\\n",
       "0  i actually believe this stuff is potent enough...   \n",
       "1  this product was very good and as a gift was r...   \n",
       "2  read  number title for your review it does not...   \n",
       "3  ive had this light for a few years now and i l...   \n",
       "4  it taught my two blue russian cats to stay awa...   \n",
       "\n",
       "                                       combined_text             pred_Cat1  \\\n",
       "0  the name of the product is mega yohimbe extrac...  health personal care   \n",
       "1  the name of the product is fcuk her  edt spray...                beauty   \n",
       "2  the name of the product is dog safety vest  br...          pet supplies   \n",
       "3  the name of the product is uplift technologies...  health personal care   \n",
       "4  the name of the product is contech stayaway au...          pet supplies   \n",
       "\n",
       "            pred_Cat2             pred_Cat3  \n",
       "0  nutrition wellness  vitamins supplements  \n",
       "1           fragrance               women s  \n",
       "2                dogs   apparel accessories  \n",
       "3         health care     smoking cessation  \n",
       "4                cats  litter housebreaking  "
      ]
     },
     "execution_count": 13,
     "metadata": {},
     "output_type": "execute_result"
    }
   ],
   "source": [
    "test_data_pred=pd.read_csv('Final/predictions/testing_data_pred_Cat_1_2_3.csv').drop(columns=['Unnamed: 0',\t'Unnamed: 0.2',\t'Unnamed: 0.1',\t'Unnamed: 0.1.1'])\n",
    "test_data_pred.head()"
   ]
  },
  {
   "cell_type": "code",
   "execution_count": 40,
   "metadata": {
    "id": "aSlpPuhlrWvJ"
   },
   "outputs": [],
   "source": [
    "# Extract actual and predicted values for each category\n",
    "cat1_true = np.array(test_data_pred['Cat1'])\n",
    "cat1_pred = np.array(test_data_pred['pred_Cat1'])\n",
    "\n",
    "cat2_true = np.array(test_data_pred['Cat2'])\n",
    "cat2_pred = np.array(test_data_pred['pred_Cat2'])\n",
    "\n",
    "cat3_true = np.array(test_data_pred['Cat3'])\n",
    "cat3_pred = np.array(test_data_pred['pred_Cat3'])\n"
   ]
  },
  {
   "cell_type": "markdown",
   "metadata": {
    "id": "qacLEuZD1srH"
   },
   "source": [
    "**Result Evaluation Cat1, Cat2, Cat3 respectively**"
   ]
  },
  {
   "cell_type": "code",
   "execution_count": 46,
   "metadata": {
    "colab": {
     "base_uri": "https://localhost:8080/"
    },
    "id": "U34i62sBsX2B",
    "outputId": "f10efdfa-d3ee-44b7-80ab-1b2fc5633d1f"
   },
   "outputs": [
    {
     "name": "stdout",
     "output_type": "stream",
     "text": [
      "Precision for Cat1 : 0.9283025485596446\n",
      "recall for Cat1 : 0.928\n",
      "f1-score for Cat1 : 0.9280367458331157\n",
      "accuracy for Cat1 0.928\n"
     ]
    }
   ],
   "source": [
    "# Classification report for cat1\n",
    "precision, recall, f1, _ = precision_recall_fscore_support(cat1_true, cat1_pred, average='weighted')\n",
    "accuracy = accuracy_score(cat1_true, cat1_pred)\n",
    "print(\"Precision for Cat1 :\", precision)\n",
    "print(\"recall for Cat1 :\", recall)\n",
    "print(\"f1-score for Cat1 :\", f1)\n",
    "print(\"accuracy for Cat1\", accuracy)"
   ]
  },
  {
   "cell_type": "code",
   "execution_count": 49,
   "metadata": {
    "colab": {
     "base_uri": "https://localhost:8080/"
    },
    "id": "FVE1LhpHvyLO",
    "outputId": "fd84001d-1f6d-437f-a88c-6caf2bc120be"
   },
   "outputs": [
    {
     "name": "stdout",
     "output_type": "stream",
     "text": [
      "Precision for Cat2 : 0.7627122954365266\n",
      "recall for Cat2 : 0.765\n",
      "f1-score for Cat2 : 0.7561063066900291\n",
      "accuracy for Cat2 0.765\n"
     ]
    }
   ],
   "source": [
    "# Classification report for cat2\n",
    "precision, recall, f1, _ = precision_recall_fscore_support(cat2_true, cat2_pred, average='weighted', zero_division=0)\n",
    "accuracy = accuracy_score(cat2_true, cat2_pred)\n",
    "print(\"Precision for Cat2 :\", precision)\n",
    "print(\"recall for Cat2 :\", recall)\n",
    "print(\"f1-score for Cat2 :\", f1)\n",
    "print(\"accuracy for Cat2\", accuracy)"
   ]
  },
  {
   "cell_type": "code",
   "execution_count": 50,
   "metadata": {
    "colab": {
     "base_uri": "https://localhost:8080/"
    },
    "id": "jA_wR73exrki",
    "outputId": "dfea540d-6829-447e-e71c-89770e6e0bb3"
   },
   "outputs": [
    {
     "name": "stdout",
     "output_type": "stream",
     "text": [
      "Precision for Cat3 : 0.6215848017424541\n",
      "recall for Cat3 : 0.646\n",
      "f1-score for Cat3 : 0.6199687979831286\n",
      "accuracy for Cat3 0.646\n"
     ]
    }
   ],
   "source": [
    "# Classification report for cat3\n",
    "precision, recall, f1, _ = precision_recall_fscore_support(cat3_true, cat3_pred, average='weighted', zero_division=0)\n",
    "accuracy = accuracy_score(cat3_true, cat3_pred)\n",
    "print(\"Precision for Cat3 :\", precision)\n",
    "print(\"recall for Cat3 :\", recall)\n",
    "print(\"f1-score for Cat3 :\", f1)\n",
    "print(\"accuracy for Cat3\", accuracy)"
   ]
  },
  {
   "cell_type": "markdown",
   "metadata": {},
   "source": [
    "### Number of records where Level 1 Catgeories matches"
   ]
  },
  {
   "cell_type": "code",
   "execution_count": 11,
   "metadata": {},
   "outputs": [
    {
     "data": {
      "text/plain": [
       "0.928"
      ]
     },
     "execution_count": 11,
     "metadata": {},
     "output_type": "execute_result"
    }
   ],
   "source": [
    "test_data_pred[test_data_pred['Cat1']==test_data_pred['pred_Cat1']].count()[0]/1000"
   ]
  },
  {
   "cell_type": "markdown",
   "metadata": {
    "id": "Us4ITV9Q1-zm"
   },
   "source": [
    "**Combined Result Evaluation of Cat1, Cat2, Cat3**"
   ]
  },
  {
   "cell_type": "code",
   "execution_count": 57,
   "metadata": {
    "id": "A3g-B_0ezyMQ"
   },
   "outputs": [],
   "source": [
    "y_true_combined = np.array([cat1_true, cat2_true, cat3_true]).T\n",
    "y_pred_combined = np.array([cat1_pred, cat2_pred, cat3_pred]).T"
   ]
  },
  {
   "cell_type": "code",
   "execution_count": 75,
   "metadata": {
    "colab": {
     "base_uri": "https://localhost:8080/"
    },
    "id": "R7a4TKNK3OjO",
    "outputId": "aab5094e-265d-40eb-9a05-0d0867532643"
   },
   "outputs": [
    {
     "name": "stdout",
     "output_type": "stream",
     "text": [
      "No of correct prediction (Cat1, Cat2, Cat3 combined): 635\n"
     ]
    }
   ],
   "source": [
    "n_correct_pred=0\n",
    "\n",
    "for i, pred in enumerate(y_pred_combined):\n",
    "  if(np.sum(y_pred_combined[i]==y_true_combined[i])==3):\n",
    "    n_correct_pred=n_correct_pred+1\n",
    "\n",
    "print(\"No of correct prediction (Cat1, Cat2, Cat3 combined):\",n_correct_pred )"
   ]
  },
  {
   "cell_type": "code",
   "execution_count": null,
   "metadata": {
    "id": "uqUNuP-YTyMo"
   },
   "outputs": [],
   "source": []
  },
  {
   "cell_type": "markdown",
   "metadata": {
    "id": "wdiFrme9UJga"
   },
   "source": [
    "**Combined Result Cat1 & Cat2**"
   ]
  },
  {
   "cell_type": "code",
   "execution_count": 77,
   "metadata": {
    "colab": {
     "base_uri": "https://localhost:8080/"
    },
    "id": "fIqKOBGcUHer",
    "outputId": "0784d6c0-1468-4981-ca06-4008e6e632d2"
   },
   "outputs": [
    {
     "name": "stdout",
     "output_type": "stream",
     "text": [
      "No of correct prediction (Cat1, Cat2 combined): 765\n"
     ]
    }
   ],
   "source": [
    "y_true_combined = np.array([cat1_true, cat2_true]).T\n",
    "y_pred_combined = np.array([cat1_pred, cat2_pred]).T\n",
    "\n",
    "n_correct_pred=0\n",
    "\n",
    "for i, pred in enumerate(y_pred_combined):\n",
    "  if(np.sum(y_pred_combined[i]==y_true_combined[i])==2):\n",
    "    n_correct_pred=n_correct_pred+1\n",
    "\n",
    "print(\"No of correct prediction (Cat1, Cat2 combined):\",n_correct_pred )"
   ]
  },
  {
   "cell_type": "code",
   "execution_count": null,
   "metadata": {
    "id": "7YaN9-D7UVO3"
   },
   "outputs": [],
   "source": []
  },
  {
   "cell_type": "markdown",
   "metadata": {
    "id": "8F5a3lvVUczS"
   },
   "source": [
    "**Combined Result Cat1 & Cat3**"
   ]
  },
  {
   "cell_type": "code",
   "execution_count": 79,
   "metadata": {
    "colab": {
     "base_uri": "https://localhost:8080/"
    },
    "id": "FEunfrb2UejJ",
    "outputId": "5c2d36e7-a6ab-43b0-87a2-7467daea43a9"
   },
   "outputs": [
    {
     "name": "stdout",
     "output_type": "stream",
     "text": [
      "No of correct prediction (Cat1, Cat3 combined): 646\n"
     ]
    }
   ],
   "source": [
    "y_true_combined = np.array([cat1_true, cat3_true]).T\n",
    "y_pred_combined = np.array([cat1_pred, cat3_pred]).T\n",
    "\n",
    "n_correct_pred=0\n",
    "\n",
    "for i, pred in enumerate(y_pred_combined):\n",
    "  if(np.sum(y_pred_combined[i]==y_true_combined[i])==2):\n",
    "    n_correct_pred=n_correct_pred+1\n",
    "\n",
    "print(\"No of correct prediction (Cat1, Cat3 combined):\",n_correct_pred)"
   ]
  },
  {
   "cell_type": "code",
   "execution_count": null,
   "metadata": {
    "id": "UZFdIaMcUk60"
   },
   "outputs": [],
   "source": []
  },
  {
   "cell_type": "markdown",
   "metadata": {
    "id": "AtuV6Az1UoRS"
   },
   "source": [
    "**Combined Result Cat2 & Cat3**"
   ]
  },
  {
   "cell_type": "code",
   "execution_count": 80,
   "metadata": {
    "colab": {
     "base_uri": "https://localhost:8080/"
    },
    "id": "h5XGWZLmUq3j",
    "outputId": "d6016cf4-3cd7-4772-d8f2-e1d80b783fe2"
   },
   "outputs": [
    {
     "name": "stdout",
     "output_type": "stream",
     "text": [
      "No of correct prediction (Cat2, Cat3 combined): 635\n"
     ]
    }
   ],
   "source": [
    "y_true_combined = np.array([cat2_true, cat3_true]).T\n",
    "y_pred_combined = np.array([cat2_pred, cat3_pred]).T\n",
    "\n",
    "n_correct_pred=0\n",
    "\n",
    "for i, pred in enumerate(y_pred_combined):\n",
    "  if(np.sum(y_pred_combined[i]==y_true_combined[i])==2):\n",
    "    n_correct_pred=n_correct_pred+1\n",
    "\n",
    "print(\"No of correct prediction (Cat2, Cat3 combined):\",n_correct_pred)"
   ]
  },
  {
   "cell_type": "code",
   "execution_count": null,
   "metadata": {
    "id": "YsT5fyTTUvo4"
   },
   "outputs": [],
   "source": []
  }
 ],
 "metadata": {
  "colab": {
   "provenance": []
  },
  "kernelspec": {
   "display_name": "Python 3",
   "language": "python",
   "name": "python3"
  },
  "language_info": {
   "codemirror_mode": {
    "name": "ipython",
    "version": 3
   },
   "file_extension": ".py",
   "mimetype": "text/x-python",
   "name": "python",
   "nbconvert_exporter": "python",
   "pygments_lexer": "ipython3",
   "version": "3.6.13"
  }
 },
 "nbformat": 4,
 "nbformat_minor": 1
}
