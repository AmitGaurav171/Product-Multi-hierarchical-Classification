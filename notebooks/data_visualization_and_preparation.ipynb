{
 "cells": [
  {
   "cell_type": "code",
   "execution_count": 53,
   "id": "0586ba96",
   "metadata": {},
   "outputs": [
    {
     "name": "stderr",
     "output_type": "stream",
     "text": [
      "[nltk_data] Downloading package stopwords to /Users/apple/nltk_data...\n",
      "[nltk_data]   Package stopwords is already up-to-date!\n"
     ]
    }
   ],
   "source": [
    "import pandas as pd\n",
    "import numpy as np\n",
    "import matplotlib.pyplot as plt\n",
    "from sklearn.model_selection import train_test_split\n",
    "import re\n",
    "import nltk\n",
    "nltk.download('stopwords')\n",
    "from nltk.corpus import stopwords\n",
    "stop_words = set(stopwords.words('english'))\n",
    "from nltk import WordNetLemmatizer\n",
    "lemmatizer = WordNetLemmatizer()\n",
    "import seaborn as sns\n",
    "import matplotlib.pyplot as plt\n"
   ]
  },
  {
   "cell_type": "code",
   "execution_count": 116,
   "id": "08f9940b",
   "metadata": {},
   "outputs": [],
   "source": []
  },
  {
   "cell_type": "code",
   "execution_count": 61,
   "id": "7ff68f19",
   "metadata": {},
   "outputs": [],
   "source": [
    "#Read the original dataset\n",
    "df=pd.read_csv(\"data.csv\")"
   ]
  },
  {
   "cell_type": "code",
   "execution_count": 62,
   "id": "ccb249c2",
   "metadata": {},
   "outputs": [
    {
     "data": {
      "text/html": [
       "<div>\n",
       "<style scoped>\n",
       "    .dataframe tbody tr th:only-of-type {\n",
       "        vertical-align: middle;\n",
       "    }\n",
       "\n",
       "    .dataframe tbody tr th {\n",
       "        vertical-align: top;\n",
       "    }\n",
       "\n",
       "    .dataframe thead th {\n",
       "        text-align: right;\n",
       "    }\n",
       "</style>\n",
       "<table border=\"1\" class=\"dataframe\">\n",
       "  <thead>\n",
       "    <tr style=\"text-align: right;\">\n",
       "      <th></th>\n",
       "      <th>productId</th>\n",
       "      <th>Title</th>\n",
       "      <th>userId</th>\n",
       "      <th>Time</th>\n",
       "      <th>Text</th>\n",
       "      <th>Cat1</th>\n",
       "      <th>Cat2</th>\n",
       "      <th>Cat3</th>\n",
       "    </tr>\n",
       "  </thead>\n",
       "  <tbody>\n",
       "    <tr>\n",
       "      <th>0</th>\n",
       "      <td>B0002AQK70</td>\n",
       "      <td>PetSafe Staywell Pet Door with Clear Hard Flap</td>\n",
       "      <td>A2L6QTQQI13LZG</td>\n",
       "      <td>1344211200</td>\n",
       "      <td>We've only had it installed about 2 weeks. So ...</td>\n",
       "      <td>pet supplies</td>\n",
       "      <td>cats</td>\n",
       "      <td>cat flaps</td>\n",
       "    </tr>\n",
       "    <tr>\n",
       "      <th>1</th>\n",
       "      <td>B0002DK8OI</td>\n",
       "      <td>Kaytee Timothy Cubes, 1-Pound</td>\n",
       "      <td>A2HJUOZ9R9K4F</td>\n",
       "      <td>1344211200</td>\n",
       "      <td>My bunny had a hard time eating this because t...</td>\n",
       "      <td>pet supplies</td>\n",
       "      <td>bunny rabbit central</td>\n",
       "      <td>food</td>\n",
       "    </tr>\n",
       "    <tr>\n",
       "      <th>2</th>\n",
       "      <td>B0006VJ6TO</td>\n",
       "      <td>Body Back Buddy</td>\n",
       "      <td>A14PK96LL78NN3</td>\n",
       "      <td>1344211200</td>\n",
       "      <td>would never in a million years have guessed th...</td>\n",
       "      <td>health personal care</td>\n",
       "      <td>health care</td>\n",
       "      <td>massage relaxation</td>\n",
       "    </tr>\n",
       "    <tr>\n",
       "      <th>3</th>\n",
       "      <td>B000EZSFXA</td>\n",
       "      <td>SnackMasters California Style Turkey Jerky</td>\n",
       "      <td>A2UW73HU9UMOTY</td>\n",
       "      <td>1344211200</td>\n",
       "      <td>Being the jerky fanatic I am, snackmasters han...</td>\n",
       "      <td>grocery gourmet food</td>\n",
       "      <td>snack food</td>\n",
       "      <td>jerky dried meats</td>\n",
       "    </tr>\n",
       "    <tr>\n",
       "      <th>4</th>\n",
       "      <td>B000KV61FC</td>\n",
       "      <td>Premier Busy Buddy Tug-a-Jug Treat Dispensing ...</td>\n",
       "      <td>A1Q99RNV0TKW8R</td>\n",
       "      <td>1344211200</td>\n",
       "      <td>Wondered how quick my dog would catch on to th...</td>\n",
       "      <td>pet supplies</td>\n",
       "      <td>dogs</td>\n",
       "      <td>toys</td>\n",
       "    </tr>\n",
       "    <tr>\n",
       "      <th>5</th>\n",
       "      <td>B000JQALAE</td>\n",
       "      <td>Greenies Treat-Pak for Dogs, Original</td>\n",
       "      <td>AT66IKVKXSI46</td>\n",
       "      <td>1344211200</td>\n",
       "      <td>My boxer likes these, but he doesn't get reall...</td>\n",
       "      <td>pet supplies</td>\n",
       "      <td>dogs</td>\n",
       "      <td>treats</td>\n",
       "    </tr>\n",
       "    <tr>\n",
       "      <th>6</th>\n",
       "      <td>B000JCCVQU</td>\n",
       "      <td>Orvus W A Paste</td>\n",
       "      <td>AMOEUUDTLP6Q9</td>\n",
       "      <td>1344211200</td>\n",
       "      <td>Use this to wash our show cows. It is great. A...</td>\n",
       "      <td>health personal care</td>\n",
       "      <td>household supplies</td>\n",
       "      <td>household cleaning</td>\n",
       "    </tr>\n",
       "    <tr>\n",
       "      <th>7</th>\n",
       "      <td>B000TA8MKG</td>\n",
       "      <td>Be Good My Little Sandbox Play Sets (Pirates A...</td>\n",
       "      <td>ACFT90GFNUQ8H</td>\n",
       "      <td>1344211200</td>\n",
       "      <td>this thing was no larger than a kchen plate an...</td>\n",
       "      <td>toys games</td>\n",
       "      <td>novelty gag toys</td>\n",
       "      <td>unknown</td>\n",
       "    </tr>\n",
       "    <tr>\n",
       "      <th>8</th>\n",
       "      <td>B000093A0U</td>\n",
       "      <td>HUGO For Women By HUGO BOSS Eau de Toilette</td>\n",
       "      <td>A3RXOGK8M4GGYM</td>\n",
       "      <td>1344211200</td>\n",
       "      <td>I love Hugo boss. It's perfect for everyday, i...</td>\n",
       "      <td>beauty</td>\n",
       "      <td>fragrance</td>\n",
       "      <td>men s</td>\n",
       "    </tr>\n",
       "    <tr>\n",
       "      <th>9</th>\n",
       "      <td>B000N2Q1V2</td>\n",
       "      <td>Nailtiques After Artificial Treatment</td>\n",
       "      <td>A30VSC032AS7ST</td>\n",
       "      <td>1344211200</td>\n",
       "      <td>I WAS VERY PLEASED WITH THE PRODUCT AND THE PR...</td>\n",
       "      <td>beauty</td>\n",
       "      <td>skin care</td>\n",
       "      <td>hands nails</td>\n",
       "    </tr>\n",
       "  </tbody>\n",
       "</table>\n",
       "</div>"
      ],
      "text/plain": [
       "    productId                                              Title  \\\n",
       "0  B0002AQK70     PetSafe Staywell Pet Door with Clear Hard Flap   \n",
       "1  B0002DK8OI                      Kaytee Timothy Cubes, 1-Pound   \n",
       "2  B0006VJ6TO                                    Body Back Buddy   \n",
       "3  B000EZSFXA         SnackMasters California Style Turkey Jerky   \n",
       "4  B000KV61FC  Premier Busy Buddy Tug-a-Jug Treat Dispensing ...   \n",
       "5  B000JQALAE              Greenies Treat-Pak for Dogs, Original   \n",
       "6  B000JCCVQU                                    Orvus W A Paste   \n",
       "7  B000TA8MKG  Be Good My Little Sandbox Play Sets (Pirates A...   \n",
       "8  B000093A0U        HUGO For Women By HUGO BOSS Eau de Toilette   \n",
       "9  B000N2Q1V2              Nailtiques After Artificial Treatment   \n",
       "\n",
       "           userId        Time  \\\n",
       "0  A2L6QTQQI13LZG  1344211200   \n",
       "1   A2HJUOZ9R9K4F  1344211200   \n",
       "2  A14PK96LL78NN3  1344211200   \n",
       "3  A2UW73HU9UMOTY  1344211200   \n",
       "4  A1Q99RNV0TKW8R  1344211200   \n",
       "5   AT66IKVKXSI46  1344211200   \n",
       "6   AMOEUUDTLP6Q9  1344211200   \n",
       "7   ACFT90GFNUQ8H  1344211200   \n",
       "8  A3RXOGK8M4GGYM  1344211200   \n",
       "9  A30VSC032AS7ST  1344211200   \n",
       "\n",
       "                                                Text                  Cat1  \\\n",
       "0  We've only had it installed about 2 weeks. So ...          pet supplies   \n",
       "1  My bunny had a hard time eating this because t...          pet supplies   \n",
       "2  would never in a million years have guessed th...  health personal care   \n",
       "3  Being the jerky fanatic I am, snackmasters han...  grocery gourmet food   \n",
       "4  Wondered how quick my dog would catch on to th...          pet supplies   \n",
       "5  My boxer likes these, but he doesn't get reall...          pet supplies   \n",
       "6  Use this to wash our show cows. It is great. A...  health personal care   \n",
       "7  this thing was no larger than a kchen plate an...            toys games   \n",
       "8  I love Hugo boss. It's perfect for everyday, i...                beauty   \n",
       "9  I WAS VERY PLEASED WITH THE PRODUCT AND THE PR...                beauty   \n",
       "\n",
       "                   Cat2                Cat3  \n",
       "0                  cats           cat flaps  \n",
       "1  bunny rabbit central                food  \n",
       "2           health care  massage relaxation  \n",
       "3            snack food   jerky dried meats  \n",
       "4                  dogs                toys  \n",
       "5                  dogs              treats  \n",
       "6    household supplies  household cleaning  \n",
       "7      novelty gag toys             unknown  \n",
       "8             fragrance               men s  \n",
       "9             skin care         hands nails  "
      ]
     },
     "execution_count": 62,
     "metadata": {},
     "output_type": "execute_result"
    }
   ],
   "source": [
    "df.head(10)"
   ]
  },
  {
   "cell_type": "code",
   "execution_count": 63,
   "id": "cf647ab7",
   "metadata": {},
   "outputs": [
    {
     "name": "stdout",
     "output_type": "stream",
     "text": [
      "<class 'pandas.core.frame.DataFrame'>\n",
      "RangeIndex: 10000 entries, 0 to 9999\n",
      "Data columns (total 8 columns):\n",
      " #   Column     Non-Null Count  Dtype \n",
      "---  ------     --------------  ----- \n",
      " 0   productId  10000 non-null  object\n",
      " 1   Title      9995 non-null   object\n",
      " 2   userId     10000 non-null  object\n",
      " 3   Time       10000 non-null  int64 \n",
      " 4   Text       10000 non-null  object\n",
      " 5   Cat1       10000 non-null  object\n",
      " 6   Cat2       10000 non-null  object\n",
      " 7   Cat3       10000 non-null  object\n",
      "dtypes: int64(1), object(7)\n",
      "memory usage: 625.1+ KB\n"
     ]
    }
   ],
   "source": [
    "#get the basic info about the data\n",
    "df.info()"
   ]
  },
  {
   "cell_type": "code",
   "execution_count": 64,
   "id": "6d3ab43a",
   "metadata": {},
   "outputs": [
    {
     "name": "stdout",
     "output_type": "stream",
     "text": [
      "Column 'productId' has distinct values: 6865\n",
      "Column 'Title' has distinct values: 6513\n",
      "Column 'userId' has distinct values: 9716\n",
      "Column 'Time' has distinct values: 210\n",
      "Column 'Text' has distinct values: 9854\n",
      "Column 'Cat1' has distinct values: 6\n",
      "Column 'Cat2' has distinct values: 64\n",
      "Column 'Cat3' has distinct values: 377\n"
     ]
    }
   ],
   "source": [
    "#Checking distinct values in columns of data\n",
    "distinct_values = {col: df[col].unique() for col in df.columns}\n",
    "\n",
    "# Display the distinct values\n",
    "for col, values in distinct_values.items():\n",
    "    print(f\"Column '{col}' has distinct values: {len(values)}\")"
   ]
  },
  {
   "cell_type": "code",
   "execution_count": 65,
   "id": "f46fe798",
   "metadata": {},
   "outputs": [],
   "source": [
    "#Dropping Null records\n",
    "df=df.dropna()"
   ]
  },
  {
   "cell_type": "code",
   "execution_count": 66,
   "id": "ed9b819f",
   "metadata": {},
   "outputs": [
    {
     "data": {
      "text/html": [
       "<div>\n",
       "<style scoped>\n",
       "    .dataframe tbody tr th:only-of-type {\n",
       "        vertical-align: middle;\n",
       "    }\n",
       "\n",
       "    .dataframe tbody tr th {\n",
       "        vertical-align: top;\n",
       "    }\n",
       "\n",
       "    .dataframe thead th {\n",
       "        text-align: right;\n",
       "    }\n",
       "</style>\n",
       "<table border=\"1\" class=\"dataframe\">\n",
       "  <thead>\n",
       "    <tr style=\"text-align: right;\">\n",
       "      <th></th>\n",
       "      <th>productId</th>\n",
       "      <th>Title</th>\n",
       "      <th>userId</th>\n",
       "      <th>Time</th>\n",
       "      <th>Text</th>\n",
       "      <th>Cat1</th>\n",
       "      <th>Cat2</th>\n",
       "      <th>Cat3</th>\n",
       "    </tr>\n",
       "  </thead>\n",
       "  <tbody>\n",
       "    <tr>\n",
       "      <th>0</th>\n",
       "      <td>B0002AQK70</td>\n",
       "      <td>PetSafe Staywell Pet Door with Clear Hard Flap</td>\n",
       "      <td>A2L6QTQQI13LZG</td>\n",
       "      <td>1344211200</td>\n",
       "      <td>We've only had it installed about 2 weeks. So ...</td>\n",
       "      <td>pet supplies</td>\n",
       "      <td>cats</td>\n",
       "      <td>cat flaps</td>\n",
       "    </tr>\n",
       "    <tr>\n",
       "      <th>1</th>\n",
       "      <td>B0002DK8OI</td>\n",
       "      <td>Kaytee Timothy Cubes, 1-Pound</td>\n",
       "      <td>A2HJUOZ9R9K4F</td>\n",
       "      <td>1344211200</td>\n",
       "      <td>My bunny had a hard time eating this because t...</td>\n",
       "      <td>pet supplies</td>\n",
       "      <td>bunny rabbit central</td>\n",
       "      <td>food</td>\n",
       "    </tr>\n",
       "    <tr>\n",
       "      <th>2</th>\n",
       "      <td>B0006VJ6TO</td>\n",
       "      <td>Body Back Buddy</td>\n",
       "      <td>A14PK96LL78NN3</td>\n",
       "      <td>1344211200</td>\n",
       "      <td>would never in a million years have guessed th...</td>\n",
       "      <td>health personal care</td>\n",
       "      <td>health care</td>\n",
       "      <td>massage relaxation</td>\n",
       "    </tr>\n",
       "    <tr>\n",
       "      <th>3</th>\n",
       "      <td>B000EZSFXA</td>\n",
       "      <td>SnackMasters California Style Turkey Jerky</td>\n",
       "      <td>A2UW73HU9UMOTY</td>\n",
       "      <td>1344211200</td>\n",
       "      <td>Being the jerky fanatic I am, snackmasters han...</td>\n",
       "      <td>grocery gourmet food</td>\n",
       "      <td>snack food</td>\n",
       "      <td>jerky dried meats</td>\n",
       "    </tr>\n",
       "    <tr>\n",
       "      <th>4</th>\n",
       "      <td>B000KV61FC</td>\n",
       "      <td>Premier Busy Buddy Tug-a-Jug Treat Dispensing ...</td>\n",
       "      <td>A1Q99RNV0TKW8R</td>\n",
       "      <td>1344211200</td>\n",
       "      <td>Wondered how quick my dog would catch on to th...</td>\n",
       "      <td>pet supplies</td>\n",
       "      <td>dogs</td>\n",
       "      <td>toys</td>\n",
       "    </tr>\n",
       "  </tbody>\n",
       "</table>\n",
       "</div>"
      ],
      "text/plain": [
       "    productId                                              Title  \\\n",
       "0  B0002AQK70     PetSafe Staywell Pet Door with Clear Hard Flap   \n",
       "1  B0002DK8OI                      Kaytee Timothy Cubes, 1-Pound   \n",
       "2  B0006VJ6TO                                    Body Back Buddy   \n",
       "3  B000EZSFXA         SnackMasters California Style Turkey Jerky   \n",
       "4  B000KV61FC  Premier Busy Buddy Tug-a-Jug Treat Dispensing ...   \n",
       "\n",
       "           userId        Time  \\\n",
       "0  A2L6QTQQI13LZG  1344211200   \n",
       "1   A2HJUOZ9R9K4F  1344211200   \n",
       "2  A14PK96LL78NN3  1344211200   \n",
       "3  A2UW73HU9UMOTY  1344211200   \n",
       "4  A1Q99RNV0TKW8R  1344211200   \n",
       "\n",
       "                                                Text                  Cat1  \\\n",
       "0  We've only had it installed about 2 weeks. So ...          pet supplies   \n",
       "1  My bunny had a hard time eating this because t...          pet supplies   \n",
       "2  would never in a million years have guessed th...  health personal care   \n",
       "3  Being the jerky fanatic I am, snackmasters han...  grocery gourmet food   \n",
       "4  Wondered how quick my dog would catch on to th...          pet supplies   \n",
       "\n",
       "                   Cat2                Cat3  \n",
       "0                  cats           cat flaps  \n",
       "1  bunny rabbit central                food  \n",
       "2           health care  massage relaxation  \n",
       "3            snack food   jerky dried meats  \n",
       "4                  dogs                toys  "
      ]
     },
     "execution_count": 66,
     "metadata": {},
     "output_type": "execute_result"
    }
   ],
   "source": [
    "df.head(5)"
   ]
  },
  {
   "cell_type": "markdown",
   "id": "cce70f84",
   "metadata": {},
   "source": [
    "## Distribution and analysis of classes in Cat1, Cat2 and Cat3"
   ]
  },
  {
   "cell_type": "code",
   "execution_count": 11,
   "id": "3fe45a47",
   "metadata": {},
   "outputs": [
    {
     "name": "stdout",
     "output_type": "stream",
     "text": [
      "cat1: \n",
      " ['pet supplies' 'health personal care' 'grocery gourmet food' 'toys games'\n",
      " 'beauty' 'baby products']\n",
      "number of cat1 categori:  6\n",
      "cat1_count: \n",
      " health personal care    2987\n",
      "beauty                  2135\n",
      "toys games              1759\n",
      "pet supplies            1576\n",
      "grocery gourmet food     840\n",
      "baby products            698\n",
      "Name: Cat1, dtype: int64\n"
     ]
    }
   ],
   "source": [
    "print(\"cat1: \\n\",df['Cat1'].unique())\n",
    "print(\"number of cat1 categori: \" ,len(df['Cat1'].unique()))\n",
    "print(\"cat1_count: \\n\",df['Cat1'].value_counts())"
   ]
  },
  {
   "cell_type": "code",
   "execution_count": 55,
   "id": "fb5557c9",
   "metadata": {},
   "outputs": [
    {
     "data": {
      "image/png": "[encoded data removed]",
      "text/plain": [
       "<Figure size 720x432 with 1 Axes>"
      ]
     },
     "metadata": {
      "needs_background": "light"
     },
     "output_type": "display_data"
    }
   ],
   "source": [
    "plt.figure(figsize=(10,6))\n",
    "sns.countplot(data=df, x='Cat1', order=df['Cat1'].value_counts().index)\n",
    "\n",
    "# Add titles and labels\n",
    "plt.title('Distribution of Cat1', fontsize=16)\n",
    "plt.xlabel('Class', fontsize=12)\n",
    "plt.ylabel('Count', fontsize=12)\n",
    "plt.xticks(rotation=45)  # Rotate x-ticks if needed\n",
    "plt.show()"
   ]
  },
  {
   "cell_type": "code",
   "execution_count": 12,
   "id": "47a9ae0c",
   "metadata": {},
   "outputs": [
    {
     "name": "stdout",
     "output_type": "stream",
     "text": [
      "cat2: \n",
      " ['cats' 'bunny rabbit central' 'health care' 'snack food' 'dogs'\n",
      " 'household supplies' 'novelty gag toys' 'fragrance' 'skin care'\n",
      " 'personal care' 'nutrition wellness' 'action toy figures'\n",
      " 'pantry staples' 'makeup' 'stuffed animals plush' 'hair care' 'herbs'\n",
      " 'nursery' 'bath body' 'diapering' 'baby toddler toys'\n",
      " 'cooking baking supplies' 'baby child care' 'dolls accessories' 'birds'\n",
      " 'fish aquatic pets' 'gifts' 'medical supplies equipment'\n",
      " 'sexual wellness' 'potty training' 'hobbies' 'safety' 'candy chocolate'\n",
      " 'beverages' 'games' 'arts crafts' 'feeding' 'electronics for kids'\n",
      " 'strollers' 'tricycles' 'vehicles remote control' 'tools accessories'\n",
      " 'grown up toys' 'dress up pretend play' 'gear' 'health baby care'\n",
      " 'breakfast foods' 'building toys' 'sports outdoor play'\n",
      " 'fresh flowers live indoor plants' 'puzzles' 'pregnancy maternity'\n",
      " 'bathing skin care' 'learning education' 'car seats accessories'\n",
      " 'sauces dips' 'small animals' 'dairy eggs' 'breads bakery'\n",
      " 'gourmet gifts' 'produce' 'meat seafood' 'meat poultry' 'baby food']\n",
      "number of cat2 categori:  64\n",
      "cat2_count: \n",
      " nutrition wellness    904\n",
      "dogs                  875\n",
      "health care           647\n",
      "hair care             542\n",
      "personal care         528\n",
      "                     ... \n",
      "dairy eggs             10\n",
      "produce                 7\n",
      "meat seafood            5\n",
      "meat poultry            3\n",
      "baby food               2\n",
      "Name: Cat2, Length: 64, dtype: int64\n"
     ]
    }
   ],
   "source": [
    "print(\"cat2: \\n\",df['Cat2'].unique())\n",
    "print(\"number of cat2 categori: \" ,len(df['Cat2'].unique()))\n",
    "print(\"cat2_count: \\n\",df['Cat2'].value_counts())"
   ]
  },
  {
   "cell_type": "code",
   "execution_count": 56,
   "id": "ff5349ec",
   "metadata": {},
   "outputs": [
    {
     "data": {
      "image/png": "[encoded data removed]",
      "text/plain": [
       "<Figure size 720x432 with 1 Axes>"
      ]
     },
     "metadata": {
      "needs_background": "light"
     },
     "output_type": "display_data"
    }
   ],
   "source": [
    "plt.figure(figsize=(10,6))\n",
    "sns.countplot(data=df, x='Cat2', order=df['Cat2'].value_counts().index)\n",
    "\n",
    "# Add titles and labels\n",
    "plt.title('Distribution of Cat2', fontsize=16)\n",
    "plt.xlabel('Class', fontsize=12)\n",
    "plt.ylabel('Count', fontsize=12)\n",
    "plt.xticks(rotation=45)  # Rotate x-ticks if needed\n",
    "plt.show()"
   ]
  },
  {
   "cell_type": "code",
   "execution_count": 13,
   "id": "3d01dbfe",
   "metadata": {},
   "outputs": [
    {
     "name": "stdout",
     "output_type": "stream",
     "text": [
      "number of cat3 categories:  377\n",
      "cat3_count: \n",
      " vitamins supplements     665\n",
      "unknown                  487\n",
      "women s                  286\n",
      "shaving hair removal     280\n",
      "face                     262\n",
      "                        ... \n",
      "children s                 1\n",
      "die cast toy vehicles      1\n",
      "cheese gifts               1\n",
      "fruits                     1\n",
      "beanbags foot bags         1\n",
      "Name: Cat3, Length: 377, dtype: int64\n"
     ]
    }
   ],
   "source": [
    "print(\"number of cat3 categories: \" ,len(df['Cat3'].unique()))\n",
    "print(\"cat3_count: \\n\",df['Cat3'].value_counts())"
   ]
  },
  {
   "cell_type": "code",
   "execution_count": 57,
   "id": "823c905e",
   "metadata": {},
   "outputs": [
    {
     "data": {
      "image/png": "[encoded data removed]",
      "text/plain": [
       "<Figure size 720x432 with 1 Axes>"
      ]
     },
     "metadata": {
      "needs_background": "light"
     },
     "output_type": "display_data"
    }
   ],
   "source": [
    "plt.figure(figsize=(10,6))\n",
    "sns.countplot(data=df, x='Cat3', order=df['Cat3'].value_counts().index)\n",
    "\n",
    "# Add titles and labels\n",
    "plt.title('Distribution of Cat3', fontsize=16)\n",
    "plt.xlabel('Class', fontsize=12)\n",
    "plt.ylabel('Count', fontsize=12)\n",
    "plt.xticks(rotation=45)  # Rotate x-ticks if needed\n",
    "plt.show()\n"
   ]
  },
  {
   "cell_type": "markdown",
   "id": "b376456c",
   "metadata": {},
   "source": [
    "## Splitting the data in training, validation and testing set"
   ]
  },
  {
   "cell_type": "code",
   "execution_count": 16,
   "id": "37c92597",
   "metadata": {},
   "outputs": [],
   "source": [
    "# Assume df is your DataFrame that you want to split\n",
    "df_train, df_test_val = train_test_split(df, test_size=0.25, random_state=42, stratify=df['Cat2'])"
   ]
  },
  {
   "cell_type": "code",
   "execution_count": 19,
   "id": "4d3074a6",
   "metadata": {},
   "outputs": [],
   "source": [
    "df_val, df_test = train_test_split(df_test_val, test_size=0.40, random_state=42)\n"
   ]
  },
  {
   "cell_type": "code",
   "execution_count": 24,
   "id": "ab5b8f34",
   "metadata": {},
   "outputs": [
    {
     "name": "stdout",
     "output_type": "stream",
     "text": [
      "health personal care    2239\n",
      "beauty                  1600\n",
      "toys games              1319\n",
      "pet supplies            1181\n",
      "grocery gourmet food     632\n",
      "baby products            525\n",
      "Name: Cat1, dtype: int64\n",
      "health personal care    457\n",
      "beauty                  315\n",
      "toys games              253\n",
      "pet supplies            237\n",
      "grocery gourmet food    130\n",
      "baby products           107\n",
      "Name: Cat1, dtype: int64\n",
      "health personal care    291\n",
      "beauty                  220\n",
      "toys games              187\n",
      "pet supplies            158\n",
      "grocery gourmet food     78\n",
      "baby products            66\n",
      "Name: Cat1, dtype: int64\n"
     ]
    }
   ],
   "source": [
    "print(df_train['Cat1'].value_counts())\n",
    "print(df_val['Cat1'].value_counts())\n",
    "print(df_test['Cat1'].value_counts())"
   ]
  },
  {
   "cell_type": "code",
   "execution_count": 30,
   "id": "fd98ea7a",
   "metadata": {},
   "outputs": [
    {
     "name": "stdout",
     "output_type": "stream",
     "text": [
      "64\n",
      "62\n",
      "60\n"
     ]
    }
   ],
   "source": [
    "print(len(df_train['Cat2'].unique()))\n",
    "print(len(df_val['Cat2'].unique()))\n",
    "print(len(df_test['Cat2'].unique()))"
   ]
  },
  {
   "cell_type": "code",
   "execution_count": 31,
   "id": "00df7d39",
   "metadata": {},
   "outputs": [
    {
     "name": "stdout",
     "output_type": "stream",
     "text": [
      "360\n",
      "238\n",
      "226\n"
     ]
    }
   ],
   "source": [
    "print(len(df_train['Cat3'].unique()))\n",
    "print(len(df_val['Cat3'].unique()))\n",
    "print(len(df_test['Cat3'].unique()))"
   ]
  },
  {
   "cell_type": "markdown",
   "id": "9e621e6b",
   "metadata": {},
   "source": [
    "## Cleaning and removing noise from data"
   ]
  },
  {
   "cell_type": "code",
   "execution_count": 32,
   "id": "200f37c0",
   "metadata": {},
   "outputs": [],
   "source": [
    "def clean_text(sentence):\n",
    "    '''\n",
    "    Take input text, remove url, email, and remove non-alphabetical characters\n",
    "    :param sentence:\n",
    "    :return:\n",
    "    '''\n",
    "    url_regex = r\"(?:http|ftp|https):\\/\\/(?:[\\w_-]+(?:(?:\\.[\\w_-]+)+))(?:[\\w.,@?^=%&:\\/~+#-]*[\\w@?^=%&\\/~+#-])?\"\n",
    "    email_regex = r\"[\\w\\.-]+@[\\w\\.-]+\\.\\w+\"\n",
    "    number_regex = r\"[-+]?(([0-9]{1,3}(,[0-9]{3,3})+)|([0-9]+[\\.][0-9]+)|([0-9]+(\\-[0-9]+)+)|([0-9]+))\"\n",
    "    \n",
    "    sentence = sentence.lower()\n",
    "    sentence = re.sub(email_regex, \"email\", sentence)\n",
    "    sentence = re.sub(url_regex, \"url\", sentence)\n",
    "    sentence = re.sub(number_regex, \"number\", sentence)\n",
    "    \n",
    "    sentence = re.sub(\"[^a-zA-Z\\\\s]\", \"\",sentence)\n",
    "\n",
    "    return sentence\n"
   ]
  },
  {
   "cell_type": "code",
   "execution_count": 33,
   "id": "8eedb46d",
   "metadata": {},
   "outputs": [
    {
     "name": "stderr",
     "output_type": "stream",
     "text": [
      "/Users/apple/opt/anaconda3/envs/tfpyspark/lib/python3.6/site-packages/ipykernel_launcher.py:1: SettingWithCopyWarning: \n",
      "A value is trying to be set on a copy of a slice from a DataFrame.\n",
      "Try using .loc[row_indexer,col_indexer] = value instead\n",
      "\n",
      "See the caveats in the documentation: https://pandas.pydata.org/pandas-docs/stable/user_guide/indexing.html#returning-a-view-versus-a-copy\n",
      "  \"\"\"Entry point for launching an IPython kernel.\n",
      "/Users/apple/opt/anaconda3/envs/tfpyspark/lib/python3.6/site-packages/ipykernel_launcher.py:2: SettingWithCopyWarning: \n",
      "A value is trying to be set on a copy of a slice from a DataFrame.\n",
      "Try using .loc[row_indexer,col_indexer] = value instead\n",
      "\n",
      "See the caveats in the documentation: https://pandas.pydata.org/pandas-docs/stable/user_guide/indexing.html#returning-a-view-versus-a-copy\n",
      "  \n",
      "/Users/apple/opt/anaconda3/envs/tfpyspark/lib/python3.6/site-packages/ipykernel_launcher.py:4: SettingWithCopyWarning: \n",
      "A value is trying to be set on a copy of a slice from a DataFrame.\n",
      "Try using .loc[row_indexer,col_indexer] = value instead\n",
      "\n",
      "See the caveats in the documentation: https://pandas.pydata.org/pandas-docs/stable/user_guide/indexing.html#returning-a-view-versus-a-copy\n",
      "  after removing the cwd from sys.path.\n",
      "/Users/apple/opt/anaconda3/envs/tfpyspark/lib/python3.6/site-packages/ipykernel_launcher.py:5: SettingWithCopyWarning: \n",
      "A value is trying to be set on a copy of a slice from a DataFrame.\n",
      "Try using .loc[row_indexer,col_indexer] = value instead\n",
      "\n",
      "See the caveats in the documentation: https://pandas.pydata.org/pandas-docs/stable/user_guide/indexing.html#returning-a-view-versus-a-copy\n",
      "  \"\"\"\n",
      "/Users/apple/opt/anaconda3/envs/tfpyspark/lib/python3.6/site-packages/ipykernel_launcher.py:7: SettingWithCopyWarning: \n",
      "A value is trying to be set on a copy of a slice from a DataFrame.\n",
      "Try using .loc[row_indexer,col_indexer] = value instead\n",
      "\n",
      "See the caveats in the documentation: https://pandas.pydata.org/pandas-docs/stable/user_guide/indexing.html#returning-a-view-versus-a-copy\n",
      "  import sys\n",
      "/Users/apple/opt/anaconda3/envs/tfpyspark/lib/python3.6/site-packages/ipykernel_launcher.py:8: SettingWithCopyWarning: \n",
      "A value is trying to be set on a copy of a slice from a DataFrame.\n",
      "Try using .loc[row_indexer,col_indexer] = value instead\n",
      "\n",
      "See the caveats in the documentation: https://pandas.pydata.org/pandas-docs/stable/user_guide/indexing.html#returning-a-view-versus-a-copy\n",
      "  \n"
     ]
    }
   ],
   "source": [
    "df_train['clean_Title']=df_train['Title'].apply(lambda x: clean_text(x))\n",
    "df_train['clean_Text']=df_train['Text'].apply(lambda x: clean_text(x))\n",
    "\n",
    "df_val['clean_Title']=df_val['Title'].apply(lambda x: clean_text(x))\n",
    "df_val['clean_Text']=df_val['Text'].apply(lambda x: clean_text(x))\n",
    "\n",
    "df_test['clean_Title']=df_test['Title'].apply(lambda x: clean_text(x))\n",
    "df_test['clean_Text']=df_test['Text'].apply(lambda x: clean_text(x))"
   ]
  },
  {
   "cell_type": "markdown",
   "id": "841a0867",
   "metadata": {},
   "source": [
    "## Combining Title and Text columns\n",
    "- after cleaning the data, combine clean_Title and clean_Text columns together in all training, validation and test data\n",
    "- I believe, it could be very useful while training to capture important information for predicting Hierarchical categories"
   ]
  },
  {
   "cell_type": "code",
   "execution_count": 35,
   "id": "8bfb4b44",
   "metadata": {},
   "outputs": [
    {
     "name": "stderr",
     "output_type": "stream",
     "text": [
      "/Users/apple/opt/anaconda3/envs/tfpyspark/lib/python3.6/site-packages/ipykernel_launcher.py:1: SettingWithCopyWarning: \n",
      "A value is trying to be set on a copy of a slice from a DataFrame.\n",
      "Try using .loc[row_indexer,col_indexer] = value instead\n",
      "\n",
      "See the caveats in the documentation: https://pandas.pydata.org/pandas-docs/stable/user_guide/indexing.html#returning-a-view-versus-a-copy\n",
      "  \"\"\"Entry point for launching an IPython kernel.\n",
      "/Users/apple/opt/anaconda3/envs/tfpyspark/lib/python3.6/site-packages/ipykernel_launcher.py:2: SettingWithCopyWarning: \n",
      "A value is trying to be set on a copy of a slice from a DataFrame.\n",
      "Try using .loc[row_indexer,col_indexer] = value instead\n",
      "\n",
      "See the caveats in the documentation: https://pandas.pydata.org/pandas-docs/stable/user_guide/indexing.html#returning-a-view-versus-a-copy\n",
      "  \n",
      "/Users/apple/opt/anaconda3/envs/tfpyspark/lib/python3.6/site-packages/ipykernel_launcher.py:3: SettingWithCopyWarning: \n",
      "A value is trying to be set on a copy of a slice from a DataFrame.\n",
      "Try using .loc[row_indexer,col_indexer] = value instead\n",
      "\n",
      "See the caveats in the documentation: https://pandas.pydata.org/pandas-docs/stable/user_guide/indexing.html#returning-a-view-versus-a-copy\n",
      "  This is separate from the ipykernel package so we can avoid doing imports until\n"
     ]
    }
   ],
   "source": [
    "df_train['combined_text'] = 'the name of the product is '+df_train['clean_Title']+' the review of the product given by the user after purchasing it is ' + df_train['clean_Text']\n",
    "df_val['combined_text'] = 'the name of the product is '+df_val['clean_Title']+' the review of the product given by the user after purchasing it is ' + df_val['clean_Text']\n",
    "df_test['combined_text'] = 'the name of the product is '+df_test['clean_Title']+' the review of the product given by the user after purchasing it is ' + df_test['clean_Text']\n"
   ]
  },
  {
   "cell_type": "code",
   "execution_count": 58,
   "id": "3ca3c623",
   "metadata": {},
   "outputs": [
    {
     "data": {
      "text/plain": [
       "productId        7496\n",
       "Title            7496\n",
       "userId           7496\n",
       "Time             7496\n",
       "Text             7496\n",
       "Cat1             7496\n",
       "Cat2             7496\n",
       "Cat3             7496\n",
       "clean_Title      7496\n",
       "clean_Text       7496\n",
       "combined_text    7496\n",
       "dtype: int64"
      ]
     },
     "execution_count": 58,
     "metadata": {},
     "output_type": "execute_result"
    }
   ],
   "source": [
    "df_train.count()"
   ]
  },
  {
   "cell_type": "code",
   "execution_count": 59,
   "id": "61a04577",
   "metadata": {},
   "outputs": [
    {
     "data": {
      "text/plain": [
       "productId        1499\n",
       "Title            1499\n",
       "userId           1499\n",
       "Time             1499\n",
       "Text             1499\n",
       "Cat1             1499\n",
       "Cat2             1499\n",
       "Cat3             1499\n",
       "clean_Title      1499\n",
       "clean_Text       1499\n",
       "combined_text    1499\n",
       "dtype: int64"
      ]
     },
     "execution_count": 59,
     "metadata": {},
     "output_type": "execute_result"
    }
   ],
   "source": [
    "df_val.count()"
   ]
  },
  {
   "cell_type": "code",
   "execution_count": 60,
   "id": "f7b5ded1",
   "metadata": {},
   "outputs": [
    {
     "data": {
      "text/plain": [
       "productId        1000\n",
       "Title            1000\n",
       "userId           1000\n",
       "Time             1000\n",
       "Text             1000\n",
       "Cat1             1000\n",
       "Cat2             1000\n",
       "Cat3             1000\n",
       "clean_Title      1000\n",
       "clean_Text       1000\n",
       "combined_text    1000\n",
       "dtype: int64"
      ]
     },
     "execution_count": 60,
     "metadata": {},
     "output_type": "execute_result"
    }
   ],
   "source": [
    "df_test.count()"
   ]
  },
  {
   "cell_type": "code",
   "execution_count": 36,
   "id": "12d639fd",
   "metadata": {},
   "outputs": [
    {
     "data": {
      "text/html": [
       "<div>\n",
       "<style scoped>\n",
       "    .dataframe tbody tr th:only-of-type {\n",
       "        vertical-align: middle;\n",
       "    }\n",
       "\n",
       "    .dataframe tbody tr th {\n",
       "        vertical-align: top;\n",
       "    }\n",
       "\n",
       "    .dataframe thead th {\n",
       "        text-align: right;\n",
       "    }\n",
       "</style>\n",
       "<table border=\"1\" class=\"dataframe\">\n",
       "  <thead>\n",
       "    <tr style=\"text-align: right;\">\n",
       "      <th></th>\n",
       "      <th>productId</th>\n",
       "      <th>Title</th>\n",
       "      <th>userId</th>\n",
       "      <th>Time</th>\n",
       "      <th>Text</th>\n",
       "      <th>Cat1</th>\n",
       "      <th>Cat2</th>\n",
       "      <th>Cat3</th>\n",
       "      <th>clean_Title</th>\n",
       "      <th>clean_Text</th>\n",
       "      <th>combined_text</th>\n",
       "    </tr>\n",
       "  </thead>\n",
       "  <tbody>\n",
       "    <tr>\n",
       "      <th>1315</th>\n",
       "      <td>B000EPNE3Q</td>\n",
       "      <td>Remington NEDH-2500 Titanium Personal Trimmer ...</td>\n",
       "      <td>A21FO8HXJECL08</td>\n",
       "      <td>1348790400</td>\n",
       "      <td>I purchased my Remington NEDH-2500 Titanium Pe...</td>\n",
       "      <td>health personal care</td>\n",
       "      <td>personal care</td>\n",
       "      <td>shaving hair removal</td>\n",
       "      <td>remington nedhnumber titanium personal trimmer...</td>\n",
       "      <td>i purchased my remington nedhnumber titanium p...</td>\n",
       "      <td>the name of the product is remington nedhnumbe...</td>\n",
       "    </tr>\n",
       "    <tr>\n",
       "      <th>583</th>\n",
       "      <td>B000MKU2YC</td>\n",
       "      <td>McDavid Universal Back Support</td>\n",
       "      <td>A1J14LNFQ7O80T</td>\n",
       "      <td>1346198400</td>\n",
       "      <td>Bought one for my dad as his birthday gift. Hi...</td>\n",
       "      <td>health personal care</td>\n",
       "      <td>medical supplies equipment</td>\n",
       "      <td>braces</td>\n",
       "      <td>mcdavid universal back support</td>\n",
       "      <td>bought one for my dad as his birthday gift his...</td>\n",
       "      <td>the name of the product is mcdavid universal b...</td>\n",
       "    </tr>\n",
       "    <tr>\n",
       "      <th>6318</th>\n",
       "      <td>B0002Q0VD8</td>\n",
       "      <td>EggCrate Foam Mattress Pad - Thickness 3 inches</td>\n",
       "      <td>A2N2SWFHDYMPK2</td>\n",
       "      <td>1357430400</td>\n",
       "      <td>After several days, it remains unexpanded and ...</td>\n",
       "      <td>health personal care</td>\n",
       "      <td>medical supplies equipment</td>\n",
       "      <td>mobility aids equipment</td>\n",
       "      <td>eggcrate foam mattress pad  thickness number i...</td>\n",
       "      <td>after several days it remains unexpanded and u...</td>\n",
       "      <td>the name of the product is eggcrate foam mattr...</td>\n",
       "    </tr>\n",
       "    <tr>\n",
       "      <th>8415</th>\n",
       "      <td>B00005JS5C</td>\n",
       "      <td>Panasonic ES246AC Bikini Shaper and Trimmer</td>\n",
       "      <td>AAKLRYT8LVRFT</td>\n",
       "      <td>1359763200</td>\n",
       "      <td>I bought this product based on the good review...</td>\n",
       "      <td>health personal care</td>\n",
       "      <td>personal care</td>\n",
       "      <td>shaving hair removal</td>\n",
       "      <td>panasonic esnumberac bikini shaper and trimmer</td>\n",
       "      <td>i bought this product based on the good review...</td>\n",
       "      <td>the name of the product is panasonic esnumbera...</td>\n",
       "    </tr>\n",
       "    <tr>\n",
       "      <th>925</th>\n",
       "      <td>B00006IA8O</td>\n",
       "      <td>3M Scotchgard Fabric Protector</td>\n",
       "      <td>A67YO0RRC61AM</td>\n",
       "      <td>1347321600</td>\n",
       "      <td>I ordered three cans in order to treat cushion...</td>\n",
       "      <td>health personal care</td>\n",
       "      <td>household supplies</td>\n",
       "      <td>cleaning tools</td>\n",
       "      <td>numberm scotchgard fabric protector</td>\n",
       "      <td>i ordered three cans in order to treat cushion...</td>\n",
       "      <td>the name of the product is numberm scotchgard ...</td>\n",
       "    </tr>\n",
       "  </tbody>\n",
       "</table>\n",
       "</div>"
      ],
      "text/plain": [
       "       productId                                              Title  \\\n",
       "1315  B000EPNE3Q  Remington NEDH-2500 Titanium Personal Trimmer ...   \n",
       "583   B000MKU2YC                     McDavid Universal Back Support   \n",
       "6318  B0002Q0VD8    EggCrate Foam Mattress Pad - Thickness 3 inches   \n",
       "8415  B00005JS5C        Panasonic ES246AC Bikini Shaper and Trimmer   \n",
       "925   B00006IA8O                     3M Scotchgard Fabric Protector   \n",
       "\n",
       "              userId        Time  \\\n",
       "1315  A21FO8HXJECL08  1348790400   \n",
       "583   A1J14LNFQ7O80T  1346198400   \n",
       "6318  A2N2SWFHDYMPK2  1357430400   \n",
       "8415   AAKLRYT8LVRFT  1359763200   \n",
       "925    A67YO0RRC61AM  1347321600   \n",
       "\n",
       "                                                   Text                  Cat1  \\\n",
       "1315  I purchased my Remington NEDH-2500 Titanium Pe...  health personal care   \n",
       "583   Bought one for my dad as his birthday gift. Hi...  health personal care   \n",
       "6318  After several days, it remains unexpanded and ...  health personal care   \n",
       "8415  I bought this product based on the good review...  health personal care   \n",
       "925   I ordered three cans in order to treat cushion...  health personal care   \n",
       "\n",
       "                            Cat2                     Cat3  \\\n",
       "1315               personal care     shaving hair removal   \n",
       "583   medical supplies equipment                   braces   \n",
       "6318  medical supplies equipment  mobility aids equipment   \n",
       "8415               personal care     shaving hair removal   \n",
       "925           household supplies           cleaning tools   \n",
       "\n",
       "                                            clean_Title  \\\n",
       "1315  remington nedhnumber titanium personal trimmer...   \n",
       "583                      mcdavid universal back support   \n",
       "6318  eggcrate foam mattress pad  thickness number i...   \n",
       "8415     panasonic esnumberac bikini shaper and trimmer   \n",
       "925                 numberm scotchgard fabric protector   \n",
       "\n",
       "                                             clean_Text  \\\n",
       "1315  i purchased my remington nedhnumber titanium p...   \n",
       "583   bought one for my dad as his birthday gift his...   \n",
       "6318  after several days it remains unexpanded and u...   \n",
       "8415  i bought this product based on the good review...   \n",
       "925   i ordered three cans in order to treat cushion...   \n",
       "\n",
       "                                          combined_text  \n",
       "1315  the name of the product is remington nedhnumbe...  \n",
       "583   the name of the product is mcdavid universal b...  \n",
       "6318  the name of the product is eggcrate foam mattr...  \n",
       "8415  the name of the product is panasonic esnumbera...  \n",
       "925   the name of the product is numberm scotchgard ...  "
      ]
     },
     "execution_count": 36,
     "metadata": {},
     "output_type": "execute_result"
    }
   ],
   "source": [
    "df_train.head(5)"
   ]
  },
  {
   "cell_type": "markdown",
   "id": "88a29b85",
   "metadata": {},
   "source": [
    "### Creating master category data using original data to get all the Cat1, Cat2 and Cat3 list, \n",
    "- we will use this master category dataframe to get all classes of a Cat2 or Cat3 w.r.t Cat1, Cat2 category"
   ]
  },
  {
   "cell_type": "code",
   "execution_count": 39,
   "id": "023cce3a",
   "metadata": {},
   "outputs": [],
   "source": [
    "master_category_df=df[['Cat1','Cat2','Cat3']]"
   ]
  },
  {
   "cell_type": "markdown",
   "id": "ab32988a",
   "metadata": {},
   "source": [
    "## saving the train, val and test data"
   ]
  },
  {
   "cell_type": "code",
   "execution_count": 37,
   "id": "423fa05b",
   "metadata": {},
   "outputs": [],
   "source": [
    "df_train.to_csv(\"final/train_data.csv\")\n",
    "df_val.to_csv(\"final/validation_data.csv\")\n",
    "df_test.to_csv(\"final/test_data.csv\")"
   ]
  },
  {
   "cell_type": "code",
   "execution_count": 40,
   "id": "50c083bb",
   "metadata": {},
   "outputs": [],
   "source": [
    "master_category_df.to_csv(\"final/master_category_data.csv\")"
   ]
  },
  {
   "cell_type": "code",
   "execution_count": null,
   "id": "5bca234c",
   "metadata": {},
   "outputs": [],
   "source": []
  }
 ],
 "metadata": {
  "kernelspec": {
   "display_name": "Python 3",
   "language": "python",
   "name": "python3"
  },
  "language_info": {
   "codemirror_mode": {
    "name": "ipython",
    "version": 3
   },
   "file_extension": ".py",
   "mimetype": "text/x-python",
   "name": "python",
   "nbconvert_exporter": "python",
   "pygments_lexer": "ipython3",
   "version": "3.6.13"
  }
 },
 "nbformat": 4,
 "nbformat_minor": 5
}
